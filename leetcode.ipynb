{
 "cells": [
  {
   "cell_type": "markdown",
   "id": "95038cb7",
   "metadata": {},
   "source": [
    "# my own linked list"
   ]
  },
  {
   "cell_type": "code",
   "execution_count": 13,
   "id": "f85e94b8",
   "metadata": {},
   "outputs": [],
   "source": [
    "class Node:\n",
    "    def __init__(self, data=None):\n",
    "        self.data = data\n",
    "        self.next = None\n",
    "\n",
    "class myLinkedList:\n",
    "    def __init__(self):\n",
    "        self.head = Node()\n",
    "        self.size = 0\n",
    "\n",
    "    def append(self, data):\n",
    "        newNode = Node(data)\n",
    "        temp = self.head\n",
    "        while(temp.next != None):\n",
    "            temp = temp.next\n",
    "        temp.next = newNode\n",
    "        self.size+=1\n",
    "        "
   ]
  },
  {
   "cell_type": "code",
   "execution_count": 15,
   "id": "49d95cd2",
   "metadata": {},
   "outputs": [
    {
     "name": "stdout",
     "output_type": "stream",
     "text": [
      "3\n"
     ]
    }
   ],
   "source": [
    "lis = myLinkedList()\n",
    "lis.append(1)\n",
    "lis.append(2)\n",
    "lis.append(3)\n",
    "\n",
    "print(lis.size)"
   ]
  },
  {
   "cell_type": "code",
   "execution_count": 29,
   "id": "b874d102",
   "metadata": {},
   "outputs": [
    {
     "name": "stdout",
     "output_type": "stream",
     "text": [
      "['4', 's', 'd', '3', '2', '1', 'b', 'a']\n",
      "a\n"
     ]
    }
   ],
   "source": [
    "s = \"ab123ds4\"\n",
    "x = []\n",
    "for i in range(len(s)-1,-1,-1):\n",
    "    x.append(s[i])\n",
    "    \n",
    "print(x)\n",
    "print(x.pop())"
   ]
  },
  {
   "cell_type": "markdown",
   "id": "f0901b62",
   "metadata": {},
   "source": [
    "# Convert list to Dict to count frequencies"
   ]
  },
  {
   "cell_type": "code",
   "execution_count": 62,
   "id": "2f8721db",
   "metadata": {},
   "outputs": [
    {
     "name": "stdout",
     "output_type": "stream",
     "text": [
      "{0: 2, 2: 3, 6: 1, 4: 1}\n",
      "[(2, 3), (0, 2), (6, 1), (4, 1)]\n",
      "2 0\n"
     ]
    }
   ],
   "source": [
    "a = [0,2,6,2,4,2,0]\n",
    "\n",
    "y = {x:a.count(x) for x in a}\n",
    "print(y)\n",
    "\n",
    "sorted_y = sorted(y.items(), key=lambda k:k[1], reverse= True)\n",
    "print(sorted_y)\n",
    "\n",
    "print(sorted_y[0][0] , sorted_y[1][0])\n",
    "\n",
    "\n",
    "\n"
   ]
  },
  {
   "cell_type": "code",
   "execution_count": 37,
   "id": "b8bc0255",
   "metadata": {},
   "outputs": [],
   "source": [
    "class Solution(object):\n",
    "    def lengthOfLongestSubstring(self, s):\n",
    "        \"\"\"\n",
    "        :type s: str\n",
    "        :rtype: int\n",
    "        \"\"\"\n",
    "        # see repeat : go back len(current) -1\n",
    "        current = {}\n",
    "        result = ''\n",
    "        if s != \"\":\n",
    "            s = s + s[len(s)-1]\n",
    "        i = 0\n",
    "        while i < len(s):\n",
    "            print('reading', s[i])\n",
    "            if s[i] in current:\n",
    "                if len(current) > len(result):\n",
    "                    # store value in result\n",
    "                    result = ''\n",
    "                    for k,v in current.items():\n",
    "                        result += k\n",
    "                    print('result is now' , result)\n",
    "                i = current[s[i]]\n",
    "                print('set i to', current[s[i]])\n",
    "                current = {}\n",
    "            else:\n",
    "                current[s[i]] = i\n",
    "                print('current: ' ,current)\n",
    "            i+=1\n",
    "        return len(result)"
   ]
  },
  {
   "cell_type": "code",
   "execution_count": 39,
   "id": "fd5b2266",
   "metadata": {},
   "outputs": [
    {
     "data": {
      "text/plain": [
       "1"
      ]
     },
     "execution_count": 39,
     "metadata": {},
     "output_type": "execute_result"
    }
   ],
   "source": [
    "#s = Solution()\n",
    "#s.lengthOfLongestSubstring('abcadc')\n",
    "min(1,2)"
   ]
  },
  {
   "cell_type": "code",
   "execution_count": 35,
   "id": "2e1d428c",
   "metadata": {},
   "outputs": [
    {
     "name": "stdout",
     "output_type": "stream",
     "text": [
      "['a', 'b', 'c']\n",
      "['a', 'c', 'b']\n",
      "['b', 'a', 'c']\n",
      "['b', 'c', 'a']\n",
      "['c', 'a', 'b']\n",
      "['c', 'b', 'a']\n"
     ]
    }
   ],
   "source": [
    "def perm1(nums):\n",
    "    if len(nums) == 0:\n",
    "        return []\n",
    "    elif len(nums) == 1:\n",
    "        return [nums]\n",
    "    else:\n",
    "        l = []\n",
    "        for i in range(len(nums)):\n",
    "            x = nums[i]\n",
    "            xs = nums[:i] + nums[i+1:]\n",
    "            for p in perm1(xs):\n",
    "                l.append([x] + p)\n",
    "        return l\n",
    "\n",
    "data = ['a','b','c']\n",
    "for p in perm1(data):\n",
    "    print(p)\n"
   ]
  },
  {
   "cell_type": "code",
   "execution_count": 16,
   "id": "7b6a45f8",
   "metadata": {},
   "outputs": [
    {
     "name": "stdout",
     "output_type": "stream",
     "text": [
      "['a', 'c']\n"
     ]
    }
   ],
   "source": [
    "\n",
    "data = ['a','b','c']\n",
    "i = 1\n",
    "xs = data[:i] + data[i+1:]\n",
    "print(xs)"
   ]
  },
  {
   "cell_type": "code",
   "execution_count": 70,
   "id": "5d918302",
   "metadata": {},
   "outputs": [
    {
     "data": {
      "text/plain": [
       "[1, 3, 2]"
      ]
     },
     "execution_count": 70,
     "metadata": {},
     "output_type": "execute_result"
    }
   ],
   "source": [
    "class Solution(object):\n",
    "    def nextPermutation(self,nums):\n",
    "            \"\"\"\n",
    "            :type nums: List[int]\n",
    "            :rtype: None Do not return anything, modify nums in-place instead.\n",
    "            \"\"\"\n",
    "            r = sorted(nums)[::-1]\n",
    "            if nums == r:\n",
    "                return sorted(nums)\n",
    "            else:\n",
    "                lst = self.perm1(nums)\n",
    "                return lst[1]\n",
    "\n",
    "\n",
    "    def perm1(self, nums):\n",
    "        if len(nums) == 0:\n",
    "            return []\n",
    "        elif len(nums) == 1:\n",
    "            return [nums]\n",
    "        else:\n",
    "            l = []\n",
    "            for i in range(len(nums)):\n",
    "                x = nums[i]\n",
    "                xs = nums[:i] + nums[i+1:]\n",
    "                for p in self.perm1(xs):\n",
    "                    l.append([x] + p)\n",
    "            return l\n",
    "    \n",
    "s = Solution()   \n",
    "s.nextPermutation([1,2,3])"
   ]
  },
  {
   "cell_type": "code",
   "execution_count": 168,
   "id": "665f1fa2",
   "metadata": {},
   "outputs": [],
   "source": [
    "class Solution(object):\n",
    "    def swap(self, nums,  ind1, ind2):\n",
    "        temp = nums[ind1]\n",
    "        nums[ind1] = nums[ind2]\n",
    "        nums[ind2] = temp\n",
    "\n",
    "    def reverse(self, nums, beg, end):\n",
    "        while beg < end:\n",
    "            self.swap(nums, beg,end)\n",
    "            beg+=1\n",
    "            end-=1\n",
    "\n",
    "    def nextperm(self, nums):\n",
    "\n",
    "        ptr = len(nums)-1\n",
    "        while ptr > 0 and nums[ptr-1] <= nums[ptr]:\n",
    "            ptr -= 1\n",
    "        self.reverse(nums,ptr-1, len(nums)-1)\n",
    "\n",
    "        toSwapInd = len(nums)-1 \n",
    "        for i in range(len(nums)-1, ptr-1, -1):\n",
    "            if nums[ptr-1] - nums[i] < toSwapInd and nums[ptr-1] - nums[i] > 0:\n",
    "                toSwapInd = i\n",
    "        print(toSwapInd)\n",
    "        self.swap(nums, toSwapInd, ptr) \n"
   ]
  },
  {
   "cell_type": "code",
   "execution_count": 169,
   "id": "5d247c9d",
   "metadata": {},
   "outputs": [
    {
     "name": "stdout",
     "output_type": "stream",
     "text": [
      "6\n"
     ]
    },
    {
     "data": {
      "text/plain": [
       "[1, 2, 7, 9, 6, 1, 4]"
      ]
     },
     "execution_count": 169,
     "metadata": {},
     "output_type": "execute_result"
    }
   ],
   "source": [
    "s = Solution()\n",
    "n = [1,2,7,9,6,4,1]\n",
    "s.nextperm(n)\n",
    "n"
   ]
  }
 ],
 "metadata": {
  "kernelspec": {
   "display_name": "Python 3 (ipykernel)",
   "language": "python",
   "name": "python3"
  },
  "language_info": {
   "codemirror_mode": {
    "name": "ipython",
    "version": 3
   },
   "file_extension": ".py",
   "mimetype": "text/x-python",
   "name": "python",
   "nbconvert_exporter": "python",
   "pygments_lexer": "ipython3",
   "version": "3.9.6"
  }
 },
 "nbformat": 4,
 "nbformat_minor": 5
}
